{
 "cells": [
  {
   "cell_type": "code",
   "execution_count": 1,
   "id": "a11f3b0d-8cb5-4748-9e7c-97f91a14421e",
   "metadata": {},
   "outputs": [
    {
     "name": "stderr",
     "output_type": "stream",
     "text": [
      "2022-06-06 20:07:28.402 INFO    numexpr.utils: Note: NumExpr detected 12 cores but \"NUMEXPR_MAX_THREADS\" not set, so enforcing safe limit of 8.\n",
      "2022-06-06 20:07:28.404 INFO    numexpr.utils: NumExpr defaulting to 8 threads.\n"
     ]
    }
   ],
   "source": [
    "import streamlit as st\n",
    "import pandas as pd\n",
    "from PIL import Image\n",
    "import os\n",
    "from datetime import datetime,timezone,timedelta\n",
    "import sqlalchemy\n",
    "from pathlib import Path"
   ]
  },
  {
   "cell_type": "code",
   "execution_count": 2,
   "id": "600f6f19-8177-4dc9-94eb-587f9048778b",
   "metadata": {},
   "outputs": [
    {
     "name": "stdout",
     "output_type": "stream",
     "text": [
      "2022-06-06 20:07:30,380 INFO sqlalchemy.engine.Engine \n",
      "CREATE TABLE nft_info (\n",
      "    \"filename\"             VARCHAR(50),\n",
      "    \"filetype\"             VARCHAR(50),\n",
      "    \"filepath\"             VARCHAR(50),\n",
      "    \"Owner_Name\"           VARCHAR(50),\n",
      "    \"Public_Key\"           VARCHAR(200),\n",
      "    \"Asset_name\"           VARCHAR(50),\n",
      "    \"bid_start_amount\"     INT,\n",
      "    \"Bid_close_date\"       VARCHAR(50)\n",
      "  );\n",
      " \n"
     ]
    },
    {
     "name": "stderr",
     "output_type": "stream",
     "text": [
      "2022-06-06 20:07:30.380 INFO    sqlalchemy.engine.Engine: \n",
      "CREATE TABLE nft_info (\n",
      "    \"filename\"             VARCHAR(50),\n",
      "    \"filetype\"             VARCHAR(50),\n",
      "    \"filepath\"             VARCHAR(50),\n",
      "    \"Owner_Name\"           VARCHAR(50),\n",
      "    \"Public_Key\"           VARCHAR(200),\n",
      "    \"Asset_name\"           VARCHAR(50),\n",
      "    \"bid_start_amount\"     INT,\n",
      "    \"Bid_close_date\"       VARCHAR(50)\n",
      "  );\n",
      " \n"
     ]
    },
    {
     "name": "stdout",
     "output_type": "stream",
     "text": [
      "2022-06-06 20:07:30,381 INFO sqlalchemy.engine.Engine [raw sql] ()\n"
     ]
    },
    {
     "name": "stderr",
     "output_type": "stream",
     "text": [
      "2022-06-06 20:07:30.381 INFO    sqlalchemy.engine.Engine: [raw sql] ()\n"
     ]
    },
    {
     "name": "stdout",
     "output_type": "stream",
     "text": [
      "2022-06-06 20:07:30,383 INFO sqlalchemy.engine.Engine COMMIT\n"
     ]
    },
    {
     "name": "stderr",
     "output_type": "stream",
     "text": [
      "2022-06-06 20:07:30.383 INFO    sqlalchemy.engine.Engine: COMMIT\n"
     ]
    },
    {
     "data": {
      "text/plain": [
       "<sqlalchemy.engine.cursor.LegacyCursorResult at 0x2875a35a460>"
      ]
     },
     "execution_count": 2,
     "metadata": {},
     "output_type": "execute_result"
    }
   ],
   "source": [
    "\n",
    "# Create the connection string for your SQLite database\n",
    "database_connection_string = 'sqlite:///'\n",
    "\n",
    "# Pass the connection string to the SQLAlchemy create_engine function\n",
    "engine = sqlalchemy.create_engine(database_connection_string, echo=True)\n",
    "\n",
    "create_nft_table = \"\"\"\n",
    "CREATE TABLE nft_info (\n",
    "    \"filename\"             VARCHAR(50),\n",
    "    \"filetype\"             VARCHAR(50),\n",
    "    \"filepath\"             VARCHAR(50),\n",
    "    \"Owner_Name\"           VARCHAR(50),\n",
    "    \"Public_Key\"           VARCHAR(200),\n",
    "    \"Asset_name\"           VARCHAR(50),\n",
    "    \"bid_start_amount\"     INT,\n",
    "    \"Bid_close_date\"       VARCHAR(50)\n",
    "  );\n",
    " \"\"\"\n",
    "\n",
    "engine.execute(create_nft_table)\n"
   ]
  },
  {
   "cell_type": "code",
   "execution_count": 7,
   "id": "219b473f-fefd-442c-b212-6cc16396d49f",
   "metadata": {},
   "outputs": [],
   "source": [
    "def insert_data(nft_df):\n",
    "    for index, row in nft_df.iterrows():\n",
    "         engine.execute(\"INSERT INTO nft_info(filename, filetype, filepath, Owner_Name, Public_Key, Asset_name, bid_start_amount, Bid_close_date) values(?,?,?,?,?,?,?,?)\", row.filename, row.filetype,                                                  row.filepath,row.Owner_Name, row.Public_Key, row.Asset_name, row.bid_start_amount, row.Bid_close_date)\n",
    "    \n",
    "    sql_nft_info_df = pd.read_sql_table('nft_info', con=engine)\n",
    "    \n",
    "    display(sql_nft_info_df)\n",
    "    \n",
    "def select_data():\n",
    "##    query_info=f\"\"\"\n",
    "##    SELECT '{select_what}'\n",
    "##    FROM '{from_table}'\n",
    "##    WHERE '{where_condition}'\n",
    "##    \"\"\"\n",
    "    \n",
    "    sql_nft_info_df = pd.read_sql_table('nft_info', con=engine)\n",
    "    st.write(sql_nft_info_df)\n",
    "    \n",
    "def update_data():\n",
    "    update_data = \"\"\"\n",
    "    UPDATE nft_info\n",
    "    SET 'filename' = '{nft_df.filename}',\n",
    "        'filetype' = '{nft_df.filetype}',\n",
    "        'filepath' = '{nft_df.filename}',\n",
    "        'Owner_Name' = '{nft_df.Owner_Name}',\n",
    "        'Asset_name' = '{nft_df.Asset_name}',\n",
    "        'bid_start_amount' = '{nft_df.bid_start_amount}',\n",
    "        'Bid_close_date' = '{nft_df.Bid_close_date}'\n",
    "    WHERE 'Public_Key' = '{nft_df.Public_Key}'\n",
    "    \"\"\"\n",
    "    \n",
    "    engine.execute(update_data)\n",
    "    read_all_data = \"\"\"\n",
    "    SELECT * FROM nft_info\n",
    "    \"\"\"\n",
    "    engine.execute(read_all_data)\n",
    "    sql_nft_info_df = pd.read_sql_table('nft_info', con=engine)\n",
    "    display(sql_nft_info_df)    \n",
    "##    list(results)"
   ]
  },
  {
   "cell_type": "code",
   "execution_count": 4,
   "id": "f401fbe5-b99f-492d-b6a0-1ddef09d1148",
   "metadata": {},
   "outputs": [
    {
     "name": "stdout",
     "output_type": "stream",
     "text": [
      "2022-06-06 20:07:30,426 INFO sqlalchemy.engine.Engine \n",
      "    UPDATE nft_info\n",
      "    SET 'filename' = '{nft_df.filename}',\n",
      "        'filetype' = '{nft_df.filetype}',\n",
      "        'filepath' = '{nft_df.filename}',\n",
      "        'Owner_Name' = '{nft_df.Owner_Name}',\n",
      "        'Asset_name' = '{nft_df.Asset_name}',\n",
      "        'bid_start_amount' = '{nft_df.bid_start_amount}',\n",
      "        'Bid_close_date' = '{nft_df.Bid_close_date}'\n",
      "    WHERE 'Public_Key' = '{nft_df.Public_Key}'\n",
      "    \n"
     ]
    },
    {
     "name": "stderr",
     "output_type": "stream",
     "text": [
      "2022-06-06 20:07:30.426 INFO    sqlalchemy.engine.Engine: \n",
      "    UPDATE nft_info\n",
      "    SET 'filename' = '{nft_df.filename}',\n",
      "        'filetype' = '{nft_df.filetype}',\n",
      "        'filepath' = '{nft_df.filename}',\n",
      "        'Owner_Name' = '{nft_df.Owner_Name}',\n",
      "        'Asset_name' = '{nft_df.Asset_name}',\n",
      "        'bid_start_amount' = '{nft_df.bid_start_amount}',\n",
      "        'Bid_close_date' = '{nft_df.Bid_close_date}'\n",
      "    WHERE 'Public_Key' = '{nft_df.Public_Key}'\n",
      "    \n"
     ]
    },
    {
     "name": "stdout",
     "output_type": "stream",
     "text": [
      "2022-06-06 20:07:30,427 INFO sqlalchemy.engine.Engine [raw sql] ()\n"
     ]
    },
    {
     "name": "stderr",
     "output_type": "stream",
     "text": [
      "2022-06-06 20:07:30.427 INFO    sqlalchemy.engine.Engine: [raw sql] ()\n"
     ]
    },
    {
     "name": "stdout",
     "output_type": "stream",
     "text": [
      "2022-06-06 20:07:30,430 INFO sqlalchemy.engine.Engine COMMIT\n"
     ]
    },
    {
     "name": "stderr",
     "output_type": "stream",
     "text": [
      "2022-06-06 20:07:30.430 INFO    sqlalchemy.engine.Engine: COMMIT\n"
     ]
    },
    {
     "name": "stdout",
     "output_type": "stream",
     "text": [
      "2022-06-06 20:07:30,432 INFO sqlalchemy.engine.Engine \n",
      "    SELECT * FROM nft_info\n",
      "    \n"
     ]
    },
    {
     "name": "stderr",
     "output_type": "stream",
     "text": [
      "2022-06-06 20:07:30.432 INFO    sqlalchemy.engine.Engine: \n",
      "    SELECT * FROM nft_info\n",
      "    \n"
     ]
    },
    {
     "name": "stdout",
     "output_type": "stream",
     "text": [
      "2022-06-06 20:07:30,435 INFO sqlalchemy.engine.Engine [raw sql] ()\n"
     ]
    },
    {
     "name": "stderr",
     "output_type": "stream",
     "text": [
      "2022-06-06 20:07:30.435 INFO    sqlalchemy.engine.Engine: [raw sql] ()\n"
     ]
    },
    {
     "name": "stdout",
     "output_type": "stream",
     "text": [
      "2022-06-06 20:07:30,438 INFO sqlalchemy.engine.Engine SELECT name FROM sqlite_master WHERE type='table' ORDER BY name\n"
     ]
    },
    {
     "name": "stderr",
     "output_type": "stream",
     "text": [
      "2022-06-06 20:07:30.438 INFO    sqlalchemy.engine.Engine: SELECT name FROM sqlite_master WHERE type='table' ORDER BY name\n"
     ]
    },
    {
     "name": "stdout",
     "output_type": "stream",
     "text": [
      "2022-06-06 20:07:30,438 INFO sqlalchemy.engine.Engine [raw sql] ()\n"
     ]
    },
    {
     "name": "stderr",
     "output_type": "stream",
     "text": [
      "2022-06-06 20:07:30.438 INFO    sqlalchemy.engine.Engine: [raw sql] ()\n"
     ]
    },
    {
     "name": "stdout",
     "output_type": "stream",
     "text": [
      "2022-06-06 20:07:30,439 INFO sqlalchemy.engine.Engine SELECT name FROM sqlite_master WHERE type='view' ORDER BY name\n"
     ]
    },
    {
     "name": "stderr",
     "output_type": "stream",
     "text": [
      "2022-06-06 20:07:30.439 INFO    sqlalchemy.engine.Engine: SELECT name FROM sqlite_master WHERE type='view' ORDER BY name\n"
     ]
    },
    {
     "name": "stdout",
     "output_type": "stream",
     "text": [
      "2022-06-06 20:07:30,440 INFO sqlalchemy.engine.Engine [raw sql] ()\n"
     ]
    },
    {
     "name": "stderr",
     "output_type": "stream",
     "text": [
      "2022-06-06 20:07:30.440 INFO    sqlalchemy.engine.Engine: [raw sql] ()\n"
     ]
    },
    {
     "name": "stdout",
     "output_type": "stream",
     "text": [
      "2022-06-06 20:07:30,444 INFO sqlalchemy.engine.Engine PRAGMA main.table_xinfo(\"nft_info\")\n"
     ]
    },
    {
     "name": "stderr",
     "output_type": "stream",
     "text": [
      "2022-06-06 20:07:30.444 INFO    sqlalchemy.engine.Engine: PRAGMA main.table_xinfo(\"nft_info\")\n"
     ]
    },
    {
     "name": "stdout",
     "output_type": "stream",
     "text": [
      "2022-06-06 20:07:30,447 INFO sqlalchemy.engine.Engine [raw sql] ()\n"
     ]
    },
    {
     "name": "stderr",
     "output_type": "stream",
     "text": [
      "2022-06-06 20:07:30.447 INFO    sqlalchemy.engine.Engine: [raw sql] ()\n"
     ]
    },
    {
     "name": "stdout",
     "output_type": "stream",
     "text": [
      "2022-06-06 20:07:30,454 INFO sqlalchemy.engine.Engine SELECT sql FROM  (SELECT * FROM sqlite_master UNION ALL   SELECT * FROM sqlite_temp_master) WHERE name = ? AND type = 'table'\n"
     ]
    },
    {
     "name": "stderr",
     "output_type": "stream",
     "text": [
      "2022-06-06 20:07:30.454 INFO    sqlalchemy.engine.Engine: SELECT sql FROM  (SELECT * FROM sqlite_master UNION ALL   SELECT * FROM sqlite_temp_master) WHERE name = ? AND type = 'table'\n"
     ]
    },
    {
     "name": "stdout",
     "output_type": "stream",
     "text": [
      "2022-06-06 20:07:30,459 INFO sqlalchemy.engine.Engine [raw sql] ('nft_info',)\n"
     ]
    },
    {
     "name": "stderr",
     "output_type": "stream",
     "text": [
      "2022-06-06 20:07:30.459 INFO    sqlalchemy.engine.Engine: [raw sql] ('nft_info',)\n"
     ]
    },
    {
     "name": "stdout",
     "output_type": "stream",
     "text": [
      "2022-06-06 20:07:30,463 INFO sqlalchemy.engine.Engine PRAGMA main.foreign_key_list(\"nft_info\")\n"
     ]
    },
    {
     "name": "stderr",
     "output_type": "stream",
     "text": [
      "2022-06-06 20:07:30.463 INFO    sqlalchemy.engine.Engine: PRAGMA main.foreign_key_list(\"nft_info\")\n"
     ]
    },
    {
     "name": "stdout",
     "output_type": "stream",
     "text": [
      "2022-06-06 20:07:30,465 INFO sqlalchemy.engine.Engine [raw sql] ()\n"
     ]
    },
    {
     "name": "stderr",
     "output_type": "stream",
     "text": [
      "2022-06-06 20:07:30.465 INFO    sqlalchemy.engine.Engine: [raw sql] ()\n"
     ]
    },
    {
     "name": "stdout",
     "output_type": "stream",
     "text": [
      "2022-06-06 20:07:30,468 INFO sqlalchemy.engine.Engine PRAGMA temp.foreign_key_list(\"nft_info\")\n"
     ]
    },
    {
     "name": "stderr",
     "output_type": "stream",
     "text": [
      "2022-06-06 20:07:30.468 INFO    sqlalchemy.engine.Engine: PRAGMA temp.foreign_key_list(\"nft_info\")\n"
     ]
    },
    {
     "name": "stdout",
     "output_type": "stream",
     "text": [
      "2022-06-06 20:07:30,469 INFO sqlalchemy.engine.Engine [raw sql] ()\n"
     ]
    },
    {
     "name": "stderr",
     "output_type": "stream",
     "text": [
      "2022-06-06 20:07:30.469 INFO    sqlalchemy.engine.Engine: [raw sql] ()\n"
     ]
    },
    {
     "name": "stdout",
     "output_type": "stream",
     "text": [
      "2022-06-06 20:07:30,470 INFO sqlalchemy.engine.Engine SELECT sql FROM  (SELECT * FROM sqlite_master UNION ALL   SELECT * FROM sqlite_temp_master) WHERE name = ? AND type = 'table'\n"
     ]
    },
    {
     "name": "stderr",
     "output_type": "stream",
     "text": [
      "2022-06-06 20:07:30.470 INFO    sqlalchemy.engine.Engine: SELECT sql FROM  (SELECT * FROM sqlite_master UNION ALL   SELECT * FROM sqlite_temp_master) WHERE name = ? AND type = 'table'\n"
     ]
    },
    {
     "name": "stdout",
     "output_type": "stream",
     "text": [
      "2022-06-06 20:07:30,471 INFO sqlalchemy.engine.Engine [raw sql] ('nft_info',)\n"
     ]
    },
    {
     "name": "stderr",
     "output_type": "stream",
     "text": [
      "2022-06-06 20:07:30.471 INFO    sqlalchemy.engine.Engine: [raw sql] ('nft_info',)\n"
     ]
    },
    {
     "name": "stdout",
     "output_type": "stream",
     "text": [
      "2022-06-06 20:07:30,473 INFO sqlalchemy.engine.Engine PRAGMA main.index_list(\"nft_info\")\n"
     ]
    },
    {
     "name": "stderr",
     "output_type": "stream",
     "text": [
      "2022-06-06 20:07:30.473 INFO    sqlalchemy.engine.Engine: PRAGMA main.index_list(\"nft_info\")\n"
     ]
    },
    {
     "name": "stdout",
     "output_type": "stream",
     "text": [
      "2022-06-06 20:07:30,474 INFO sqlalchemy.engine.Engine [raw sql] ()\n"
     ]
    },
    {
     "name": "stderr",
     "output_type": "stream",
     "text": [
      "2022-06-06 20:07:30.474 INFO    sqlalchemy.engine.Engine: [raw sql] ()\n"
     ]
    },
    {
     "name": "stdout",
     "output_type": "stream",
     "text": [
      "2022-06-06 20:07:30,476 INFO sqlalchemy.engine.Engine PRAGMA temp.index_list(\"nft_info\")\n"
     ]
    },
    {
     "name": "stderr",
     "output_type": "stream",
     "text": [
      "2022-06-06 20:07:30.476 INFO    sqlalchemy.engine.Engine: PRAGMA temp.index_list(\"nft_info\")\n"
     ]
    },
    {
     "name": "stdout",
     "output_type": "stream",
     "text": [
      "2022-06-06 20:07:30,477 INFO sqlalchemy.engine.Engine [raw sql] ()\n"
     ]
    },
    {
     "name": "stderr",
     "output_type": "stream",
     "text": [
      "2022-06-06 20:07:30.477 INFO    sqlalchemy.engine.Engine: [raw sql] ()\n"
     ]
    },
    {
     "name": "stdout",
     "output_type": "stream",
     "text": [
      "2022-06-06 20:07:30,480 INFO sqlalchemy.engine.Engine PRAGMA main.index_list(\"nft_info\")\n"
     ]
    },
    {
     "name": "stderr",
     "output_type": "stream",
     "text": [
      "2022-06-06 20:07:30.480 INFO    sqlalchemy.engine.Engine: PRAGMA main.index_list(\"nft_info\")\n"
     ]
    },
    {
     "name": "stdout",
     "output_type": "stream",
     "text": [
      "2022-06-06 20:07:30,483 INFO sqlalchemy.engine.Engine [raw sql] ()\n"
     ]
    },
    {
     "name": "stderr",
     "output_type": "stream",
     "text": [
      "2022-06-06 20:07:30.483 INFO    sqlalchemy.engine.Engine: [raw sql] ()\n"
     ]
    },
    {
     "name": "stdout",
     "output_type": "stream",
     "text": [
      "2022-06-06 20:07:30,485 INFO sqlalchemy.engine.Engine PRAGMA temp.index_list(\"nft_info\")\n"
     ]
    },
    {
     "name": "stderr",
     "output_type": "stream",
     "text": [
      "2022-06-06 20:07:30.485 INFO    sqlalchemy.engine.Engine: PRAGMA temp.index_list(\"nft_info\")\n"
     ]
    },
    {
     "name": "stdout",
     "output_type": "stream",
     "text": [
      "2022-06-06 20:07:30,487 INFO sqlalchemy.engine.Engine [raw sql] ()\n"
     ]
    },
    {
     "name": "stderr",
     "output_type": "stream",
     "text": [
      "2022-06-06 20:07:30.487 INFO    sqlalchemy.engine.Engine: [raw sql] ()\n"
     ]
    },
    {
     "name": "stdout",
     "output_type": "stream",
     "text": [
      "2022-06-06 20:07:30,487 INFO sqlalchemy.engine.Engine SELECT sql FROM  (SELECT * FROM sqlite_master UNION ALL   SELECT * FROM sqlite_temp_master) WHERE name = ? AND type = 'table'\n"
     ]
    },
    {
     "name": "stderr",
     "output_type": "stream",
     "text": [
      "2022-06-06 20:07:30.487 INFO    sqlalchemy.engine.Engine: SELECT sql FROM  (SELECT * FROM sqlite_master UNION ALL   SELECT * FROM sqlite_temp_master) WHERE name = ? AND type = 'table'\n"
     ]
    },
    {
     "name": "stdout",
     "output_type": "stream",
     "text": [
      "2022-06-06 20:07:30,488 INFO sqlalchemy.engine.Engine [raw sql] ('nft_info',)\n"
     ]
    },
    {
     "name": "stderr",
     "output_type": "stream",
     "text": [
      "2022-06-06 20:07:30.488 INFO    sqlalchemy.engine.Engine: [raw sql] ('nft_info',)\n"
     ]
    },
    {
     "name": "stdout",
     "output_type": "stream",
     "text": [
      "2022-06-06 20:07:30,493 INFO sqlalchemy.engine.Engine SELECT nft_info.filename, nft_info.filetype, nft_info.filepath, nft_info.\"Owner_Name\", nft_info.\"Public_Key\", nft_info.\"Asset_name\", nft_info.bid_start_amount, nft_info.\"Bid_close_date\" \n",
      "FROM nft_info\n"
     ]
    },
    {
     "name": "stderr",
     "output_type": "stream",
     "text": [
      "2022-06-06 20:07:30.493 INFO    sqlalchemy.engine.Engine: SELECT nft_info.filename, nft_info.filetype, nft_info.filepath, nft_info.\"Owner_Name\", nft_info.\"Public_Key\", nft_info.\"Asset_name\", nft_info.bid_start_amount, nft_info.\"Bid_close_date\" \n",
      "FROM nft_info\n"
     ]
    },
    {
     "name": "stdout",
     "output_type": "stream",
     "text": [
      "2022-06-06 20:07:30,494 INFO sqlalchemy.engine.Engine [generated in 0.00100s] ()\n"
     ]
    },
    {
     "name": "stderr",
     "output_type": "stream",
     "text": [
      "2022-06-06 20:07:30.494 INFO    sqlalchemy.engine.Engine: [generated in 0.00100s] ()\n"
     ]
    },
    {
     "data": {
      "text/html": [
       "<div>\n",
       "<style scoped>\n",
       "    .dataframe tbody tr th:only-of-type {\n",
       "        vertical-align: middle;\n",
       "    }\n",
       "\n",
       "    .dataframe tbody tr th {\n",
       "        vertical-align: top;\n",
       "    }\n",
       "\n",
       "    .dataframe thead th {\n",
       "        text-align: right;\n",
       "    }\n",
       "</style>\n",
       "<table border=\"1\" class=\"dataframe\">\n",
       "  <thead>\n",
       "    <tr style=\"text-align: right;\">\n",
       "      <th></th>\n",
       "      <th>filename</th>\n",
       "      <th>filetype</th>\n",
       "      <th>filepath</th>\n",
       "      <th>Owner_Name</th>\n",
       "      <th>Public_Key</th>\n",
       "      <th>Asset_name</th>\n",
       "      <th>bid_start_amount</th>\n",
       "      <th>Bid_close_date</th>\n",
       "    </tr>\n",
       "  </thead>\n",
       "  <tbody>\n",
       "  </tbody>\n",
       "</table>\n",
       "</div>"
      ],
      "text/plain": [
       "Empty DataFrame\n",
       "Columns: [filename, filetype, filepath, Owner_Name, Public_Key, Asset_name, bid_start_amount, Bid_close_date]\n",
       "Index: []"
      ]
     },
     "metadata": {},
     "output_type": "display_data"
    }
   ],
   "source": [
    "update_data()"
   ]
  },
  {
   "cell_type": "code",
   "execution_count": 5,
   "id": "6795bcd8-b6a8-4073-a883-7fbef4447f1f",
   "metadata": {},
   "outputs": [],
   "source": [
    "nft_df = pd.read_csv(Path(\"Resources/nft.csv\"))"
   ]
  },
  {
   "cell_type": "code",
   "execution_count": 8,
   "id": "8c3c8329-8021-4ba8-ba78-f3809986af60",
   "metadata": {},
   "outputs": [
    {
     "name": "stdout",
     "output_type": "stream",
     "text": [
      "2022-06-06 20:08:40,050 INFO sqlalchemy.engine.Engine INSERT INTO nft_info(filename, filetype, filepath, Owner_Name, Public_Key, Asset_name, bid_start_amount, Bid_close_date) values(?,?,?,?,?,?,?,?)\n"
     ]
    },
    {
     "name": "stderr",
     "output_type": "stream",
     "text": [
      "2022-06-06 20:08:40.050 INSERT INTO nft_info(filename, filetype, filepath, Owner_Name, Public_Key, Asset_name, bid_start_amount, Bid_close_date) values(?,?,?,?,?,?,?,?)\n"
     ]
    },
    {
     "name": "stdout",
     "output_type": "stream",
     "text": [
      "2022-06-06 20:08:40,052 INFO sqlalchemy.engine.Engine [raw sql] ('Laker', 'Images/image1.png', 253020, 'Images/image1.png', '0xc852Ab4073FF57c7Fa824D158A3Cdd5CC6707399', 'Laker_asset', 4000.0, '6/4/2002')\n"
     ]
    },
    {
     "name": "stderr",
     "output_type": "stream",
     "text": [
      "2022-06-06 20:08:40.052 [raw sql] ('Laker', 'Images/image1.png', 253020, 'Images/image1.png', '0xc852Ab4073FF57c7Fa824D158A3Cdd5CC6707399', 'Laker_asset', 4000.0, '6/4/2002')\n"
     ]
    },
    {
     "name": "stdout",
     "output_type": "stream",
     "text": [
      "2022-06-06 20:08:40,056 INFO sqlalchemy.engine.Engine COMMIT\n"
     ]
    },
    {
     "name": "stderr",
     "output_type": "stream",
     "text": [
      "2022-06-06 20:08:40.056 COMMIT\n"
     ]
    },
    {
     "name": "stdout",
     "output_type": "stream",
     "text": [
      "2022-06-06 20:08:40,059 INFO sqlalchemy.engine.Engine INSERT INTO nft_info(filename, filetype, filepath, Owner_Name, Public_Key, Asset_name, bid_start_amount, Bid_close_date) values(?,?,?,?,?,?,?,?)\n"
     ]
    },
    {
     "name": "stderr",
     "output_type": "stream",
     "text": [
      "2022-06-06 20:08:40.059 INSERT INTO nft_info(filename, filetype, filepath, Owner_Name, Public_Key, Asset_name, bid_start_amount, Bid_close_date) values(?,?,?,?,?,?,?,?)\n"
     ]
    },
    {
     "name": "stdout",
     "output_type": "stream",
     "text": [
      "2022-06-06 20:08:40,062 INFO sqlalchemy.engine.Engine [raw sql] ('1990', 'Images/image2.png', 253020, 'Images/image2.png', '0x408e647764abbAB762fFc730afd3888552660C35', nan, nan, nan)\n"
     ]
    },
    {
     "name": "stderr",
     "output_type": "stream",
     "text": [
      "2022-06-06 20:08:40.062 [raw sql] ('1990', 'Images/image2.png', 253020, 'Images/image2.png', '0x408e647764abbAB762fFc730afd3888552660C35', nan, nan, nan)\n"
     ]
    },
    {
     "name": "stdout",
     "output_type": "stream",
     "text": [
      "2022-06-06 20:08:40,066 INFO sqlalchemy.engine.Engine COMMIT\n"
     ]
    },
    {
     "name": "stderr",
     "output_type": "stream",
     "text": [
      "2022-06-06 20:08:40.066 COMMIT\n"
     ]
    },
    {
     "name": "stdout",
     "output_type": "stream",
     "text": [
      "2022-06-06 20:08:40,072 INFO sqlalchemy.engine.Engine INSERT INTO nft_info(filename, filetype, filepath, Owner_Name, Public_Key, Asset_name, bid_start_amount, Bid_close_date) values(?,?,?,?,?,?,?,?)\n"
     ]
    },
    {
     "name": "stderr",
     "output_type": "stream",
     "text": [
      "2022-06-06 20:08:40.072 INSERT INTO nft_info(filename, filetype, filepath, Owner_Name, Public_Key, Asset_name, bid_start_amount, Bid_close_date) values(?,?,?,?,?,?,?,?)\n"
     ]
    },
    {
     "name": "stdout",
     "output_type": "stream",
     "text": [
      "2022-06-06 20:08:40,074 INFO sqlalchemy.engine.Engine [raw sql] ('AllStar', 'Images/image3.png', 253020, 'Images/image3.png', '0x949cD3e57F62499ca874F3C59D456F18b9CeBd8F', nan, nan, nan)\n"
     ]
    },
    {
     "name": "stderr",
     "output_type": "stream",
     "text": [
      "2022-06-06 20:08:40.074 [raw sql] ('AllStar', 'Images/image3.png', 253020, 'Images/image3.png', '0x949cD3e57F62499ca874F3C59D456F18b9CeBd8F', nan, nan, nan)\n"
     ]
    },
    {
     "name": "stdout",
     "output_type": "stream",
     "text": [
      "2022-06-06 20:08:40,076 INFO sqlalchemy.engine.Engine COMMIT\n"
     ]
    },
    {
     "name": "stderr",
     "output_type": "stream",
     "text": [
      "2022-06-06 20:08:40.076 COMMIT\n"
     ]
    },
    {
     "name": "stdout",
     "output_type": "stream",
     "text": [
      "2022-06-06 20:08:40,079 INFO sqlalchemy.engine.Engine INSERT INTO nft_info(filename, filetype, filepath, Owner_Name, Public_Key, Asset_name, bid_start_amount, Bid_close_date) values(?,?,?,?,?,?,?,?)\n"
     ]
    },
    {
     "name": "stderr",
     "output_type": "stream",
     "text": [
      "2022-06-06 20:08:40.079 INSERT INTO nft_info(filename, filetype, filepath, Owner_Name, Public_Key, Asset_name, bid_start_amount, Bid_close_date) values(?,?,?,?,?,?,?,?)\n"
     ]
    },
    {
     "name": "stdout",
     "output_type": "stream",
     "text": [
      "2022-06-06 20:08:40,080 INFO sqlalchemy.engine.Engine [raw sql] ('Atl0', 'Images/atl0.jpg', 253020, 'Images/atl0.jpg', '0x23f86eA3f98701A05E8eB6596AAc1F01E3600771', nan, nan, nan)\n"
     ]
    },
    {
     "name": "stderr",
     "output_type": "stream",
     "text": [
      "2022-06-06 20:08:40.080 [raw sql] ('Atl0', 'Images/atl0.jpg', 253020, 'Images/atl0.jpg', '0x23f86eA3f98701A05E8eB6596AAc1F01E3600771', nan, nan, nan)\n"
     ]
    },
    {
     "name": "stdout",
     "output_type": "stream",
     "text": [
      "2022-06-06 20:08:40,083 INFO sqlalchemy.engine.Engine COMMIT\n"
     ]
    },
    {
     "name": "stderr",
     "output_type": "stream",
     "text": [
      "2022-06-06 20:08:40.083 COMMIT\n"
     ]
    },
    {
     "name": "stdout",
     "output_type": "stream",
     "text": [
      "2022-06-06 20:08:40,085 INFO sqlalchemy.engine.Engine INSERT INTO nft_info(filename, filetype, filepath, Owner_Name, Public_Key, Asset_name, bid_start_amount, Bid_close_date) values(?,?,?,?,?,?,?,?)\n"
     ]
    },
    {
     "name": "stderr",
     "output_type": "stream",
     "text": [
      "2022-06-06 20:08:40.085 INSERT INTO nft_info(filename, filetype, filepath, Owner_Name, Public_Key, Asset_name, bid_start_amount, Bid_close_date) values(?,?,?,?,?,?,?,?)\n"
     ]
    },
    {
     "name": "stdout",
     "output_type": "stream",
     "text": [
      "2022-06-06 20:08:40,086 INFO sqlalchemy.engine.Engine [raw sql] ('Atl12', 'Images/atl12.jpg', 253020, 'Images/atl12.jpg', '0x15784317248d616AFf662f512963e35950743Df4', nan, nan, nan)\n"
     ]
    },
    {
     "name": "stderr",
     "output_type": "stream",
     "text": [
      "2022-06-06 20:08:40.086 [raw sql] ('Atl12', 'Images/atl12.jpg', 253020, 'Images/atl12.jpg', '0x15784317248d616AFf662f512963e35950743Df4', nan, nan, nan)\n"
     ]
    },
    {
     "name": "stdout",
     "output_type": "stream",
     "text": [
      "2022-06-06 20:08:40,088 INFO sqlalchemy.engine.Engine COMMIT\n"
     ]
    },
    {
     "name": "stderr",
     "output_type": "stream",
     "text": [
      "2022-06-06 20:08:40.088 COMMIT\n"
     ]
    },
    {
     "name": "stdout",
     "output_type": "stream",
     "text": [
      "2022-06-06 20:08:40,089 INFO sqlalchemy.engine.Engine INSERT INTO nft_info(filename, filetype, filepath, Owner_Name, Public_Key, Asset_name, bid_start_amount, Bid_close_date) values(?,?,?,?,?,?,?,?)\n"
     ]
    },
    {
     "name": "stderr",
     "output_type": "stream",
     "text": [
      "2022-06-06 20:08:40.089 INSERT INTO nft_info(filename, filetype, filepath, Owner_Name, Public_Key, Asset_name, bid_start_amount, Bid_close_date) values(?,?,?,?,?,?,?,?)\n"
     ]
    },
    {
     "name": "stdout",
     "output_type": "stream",
     "text": [
      "2022-06-06 20:08:40,090 INFO sqlalchemy.engine.Engine [raw sql] ('Atl17', 'Images/atl17.jpg', 253020, 'Images/atl17.jpg', '0x10e1072f12Abd7Db152aF026D56fA6692B0B24EC', nan, nan, nan)\n"
     ]
    },
    {
     "name": "stderr",
     "output_type": "stream",
     "text": [
      "2022-06-06 20:08:40.090 [raw sql] ('Atl17', 'Images/atl17.jpg', 253020, 'Images/atl17.jpg', '0x10e1072f12Abd7Db152aF026D56fA6692B0B24EC', nan, nan, nan)\n"
     ]
    },
    {
     "name": "stdout",
     "output_type": "stream",
     "text": [
      "2022-06-06 20:08:40,091 INFO sqlalchemy.engine.Engine COMMIT\n"
     ]
    },
    {
     "name": "stderr",
     "output_type": "stream",
     "text": [
      "2022-06-06 20:08:40.091 COMMIT\n"
     ]
    },
    {
     "name": "stdout",
     "output_type": "stream",
     "text": [
      "2022-06-06 20:08:40,093 INFO sqlalchemy.engine.Engine INSERT INTO nft_info(filename, filetype, filepath, Owner_Name, Public_Key, Asset_name, bid_start_amount, Bid_close_date) values(?,?,?,?,?,?,?,?)\n"
     ]
    },
    {
     "name": "stderr",
     "output_type": "stream",
     "text": [
      "2022-06-06 20:08:40.093 INSERT INTO nft_info(filename, filetype, filepath, Owner_Name, Public_Key, Asset_name, bid_start_amount, Bid_close_date) values(?,?,?,?,?,?,?,?)\n"
     ]
    },
    {
     "name": "stdout",
     "output_type": "stream",
     "text": [
      "2022-06-06 20:08:40,095 INFO sqlalchemy.engine.Engine [raw sql] ('Atl7', 'Images/atl7.jpg', 253020, 'Images/atl7.jpg', '0x5a50Fe1A38D5b0C10Cea72C4BB857193e5595DDa', nan, nan, nan)\n"
     ]
    },
    {
     "name": "stderr",
     "output_type": "stream",
     "text": [
      "2022-06-06 20:08:40.095 [raw sql] ('Atl7', 'Images/atl7.jpg', 253020, 'Images/atl7.jpg', '0x5a50Fe1A38D5b0C10Cea72C4BB857193e5595DDa', nan, nan, nan)\n"
     ]
    },
    {
     "name": "stdout",
     "output_type": "stream",
     "text": [
      "2022-06-06 20:08:40,097 INFO sqlalchemy.engine.Engine COMMIT\n"
     ]
    },
    {
     "name": "stderr",
     "output_type": "stream",
     "text": [
      "2022-06-06 20:08:40.097 COMMIT\n"
     ]
    },
    {
     "name": "stdout",
     "output_type": "stream",
     "text": [
      "2022-06-06 20:08:40,100 INFO sqlalchemy.engine.Engine INSERT INTO nft_info(filename, filetype, filepath, Owner_Name, Public_Key, Asset_name, bid_start_amount, Bid_close_date) values(?,?,?,?,?,?,?,?)\n"
     ]
    },
    {
     "name": "stderr",
     "output_type": "stream",
     "text": [
      "2022-06-06 20:08:40.100 INSERT INTO nft_info(filename, filetype, filepath, Owner_Name, Public_Key, Asset_name, bid_start_amount, Bid_close_date) values(?,?,?,?,?,?,?,?)\n"
     ]
    },
    {
     "name": "stdout",
     "output_type": "stream",
     "text": [
      "2022-06-06 20:08:40,102 INFO sqlalchemy.engine.Engine [raw sql] ('Bulls21', 'Images/bulls21.jpg', 253020, 'Images/bulls21.jpg', '0x8FfdB71Ec8F0925ED9Bc029Eb4072dd369104074', nan, nan, nan)\n"
     ]
    },
    {
     "name": "stderr",
     "output_type": "stream",
     "text": [
      "2022-06-06 20:08:40.102 [raw sql] ('Bulls21', 'Images/bulls21.jpg', 253020, 'Images/bulls21.jpg', '0x8FfdB71Ec8F0925ED9Bc029Eb4072dd369104074', nan, nan, nan)\n"
     ]
    },
    {
     "name": "stdout",
     "output_type": "stream",
     "text": [
      "2022-06-06 20:08:40,105 INFO sqlalchemy.engine.Engine COMMIT\n"
     ]
    },
    {
     "name": "stderr",
     "output_type": "stream",
     "text": [
      "2022-06-06 20:08:40.105 COMMIT\n"
     ]
    },
    {
     "name": "stdout",
     "output_type": "stream",
     "text": [
      "2022-06-06 20:08:40,107 INFO sqlalchemy.engine.Engine INSERT INTO nft_info(filename, filetype, filepath, Owner_Name, Public_Key, Asset_name, bid_start_amount, Bid_close_date) values(?,?,?,?,?,?,?,?)\n"
     ]
    },
    {
     "name": "stderr",
     "output_type": "stream",
     "text": [
      "2022-06-06 20:08:40.107 INSERT INTO nft_info(filename, filetype, filepath, Owner_Name, Public_Key, Asset_name, bid_start_amount, Bid_close_date) values(?,?,?,?,?,?,?,?)\n"
     ]
    },
    {
     "name": "stdout",
     "output_type": "stream",
     "text": [
      "2022-06-06 20:08:40,109 INFO sqlalchemy.engine.Engine [raw sql] ('Chi10', 'Images/bulls5.jpg', 253020, 'Images/bulls5.jpg', '0x8BDaE51c43C32402618D7eFC841c2486fbeEBf59', 'Bulls10', 7000.0, '4/3/2020')\n"
     ]
    },
    {
     "name": "stderr",
     "output_type": "stream",
     "text": [
      "2022-06-06 20:08:40.109 [raw sql] ('Chi10', 'Images/bulls5.jpg', 253020, 'Images/bulls5.jpg', '0x8BDaE51c43C32402618D7eFC841c2486fbeEBf59', 'Bulls10', 7000.0, '4/3/2020')\n"
     ]
    },
    {
     "name": "stdout",
     "output_type": "stream",
     "text": [
      "2022-06-06 20:08:40,111 INFO sqlalchemy.engine.Engine COMMIT\n"
     ]
    },
    {
     "name": "stderr",
     "output_type": "stream",
     "text": [
      "2022-06-06 20:08:40.111 COMMIT\n"
     ]
    },
    {
     "name": "stdout",
     "output_type": "stream",
     "text": [
      "2022-06-06 20:08:40,112 INFO sqlalchemy.engine.Engine INSERT INTO nft_info(filename, filetype, filepath, Owner_Name, Public_Key, Asset_name, bid_start_amount, Bid_close_date) values(?,?,?,?,?,?,?,?)\n"
     ]
    },
    {
     "name": "stderr",
     "output_type": "stream",
     "text": [
      "2022-06-06 20:08:40.112 INSERT INTO nft_info(filename, filetype, filepath, Owner_Name, Public_Key, Asset_name, bid_start_amount, Bid_close_date) values(?,?,?,?,?,?,?,?)\n"
     ]
    },
    {
     "name": "stdout",
     "output_type": "stream",
     "text": [
      "2022-06-06 20:08:40,113 INFO sqlalchemy.engine.Engine [raw sql] ('Bulls7', 'Images/chi7.jpg', 253020, 'Images/chi7.jpg', '0x031E8c27e6Bf3ea5d32552A3D29c1C4FD6d46A0f', 'Chi7', 5000.0, '5/2/2022')\n"
     ]
    },
    {
     "name": "stderr",
     "output_type": "stream",
     "text": [
      "2022-06-06 20:08:40.113 [raw sql] ('Bulls7', 'Images/chi7.jpg', 253020, 'Images/chi7.jpg', '0x031E8c27e6Bf3ea5d32552A3D29c1C4FD6d46A0f', 'Chi7', 5000.0, '5/2/2022')\n"
     ]
    },
    {
     "name": "stdout",
     "output_type": "stream",
     "text": [
      "2022-06-06 20:08:40,114 INFO sqlalchemy.engine.Engine COMMIT\n"
     ]
    },
    {
     "name": "stderr",
     "output_type": "stream",
     "text": [
      "2022-06-06 20:08:40.114 COMMIT\n"
     ]
    },
    {
     "name": "stdout",
     "output_type": "stream",
     "text": [
      "2022-06-06 20:08:40,120 INFO sqlalchemy.engine.Engine SELECT name FROM sqlite_master WHERE type='table' ORDER BY name\n"
     ]
    },
    {
     "name": "stderr",
     "output_type": "stream",
     "text": [
      "2022-06-06 20:08:40.120 SELECT name FROM sqlite_master WHERE type='table' ORDER BY name\n"
     ]
    },
    {
     "name": "stdout",
     "output_type": "stream",
     "text": [
      "2022-06-06 20:08:40,123 INFO sqlalchemy.engine.Engine [raw sql] ()\n"
     ]
    },
    {
     "name": "stderr",
     "output_type": "stream",
     "text": [
      "2022-06-06 20:08:40.123 [raw sql] ()\n"
     ]
    },
    {
     "name": "stdout",
     "output_type": "stream",
     "text": [
      "2022-06-06 20:08:40,126 INFO sqlalchemy.engine.Engine SELECT name FROM sqlite_master WHERE type='view' ORDER BY name\n"
     ]
    },
    {
     "name": "stderr",
     "output_type": "stream",
     "text": [
      "2022-06-06 20:08:40.126 SELECT name FROM sqlite_master WHERE type='view' ORDER BY name\n"
     ]
    },
    {
     "name": "stdout",
     "output_type": "stream",
     "text": [
      "2022-06-06 20:08:40,128 INFO sqlalchemy.engine.Engine [raw sql] ()\n"
     ]
    },
    {
     "name": "stderr",
     "output_type": "stream",
     "text": [
      "2022-06-06 20:08:40.128 [raw sql] ()\n"
     ]
    },
    {
     "name": "stdout",
     "output_type": "stream",
     "text": [
      "2022-06-06 20:08:40,133 INFO sqlalchemy.engine.Engine PRAGMA main.table_xinfo(\"nft_info\")\n"
     ]
    },
    {
     "name": "stderr",
     "output_type": "stream",
     "text": [
      "2022-06-06 20:08:40.133 PRAGMA main.table_xinfo(\"nft_info\")\n"
     ]
    },
    {
     "name": "stdout",
     "output_type": "stream",
     "text": [
      "2022-06-06 20:08:40,137 INFO sqlalchemy.engine.Engine [raw sql] ()\n"
     ]
    },
    {
     "name": "stderr",
     "output_type": "stream",
     "text": [
      "2022-06-06 20:08:40.137 [raw sql] ()\n"
     ]
    },
    {
     "name": "stdout",
     "output_type": "stream",
     "text": [
      "2022-06-06 20:08:40,142 INFO sqlalchemy.engine.Engine SELECT sql FROM  (SELECT * FROM sqlite_master UNION ALL   SELECT * FROM sqlite_temp_master) WHERE name = ? AND type = 'table'\n"
     ]
    },
    {
     "name": "stderr",
     "output_type": "stream",
     "text": [
      "2022-06-06 20:08:40.142 SELECT sql FROM  (SELECT * FROM sqlite_master UNION ALL   SELECT * FROM sqlite_temp_master) WHERE name = ? AND type = 'table'\n"
     ]
    },
    {
     "name": "stdout",
     "output_type": "stream",
     "text": [
      "2022-06-06 20:08:40,144 INFO sqlalchemy.engine.Engine [raw sql] ('nft_info',)\n"
     ]
    },
    {
     "name": "stderr",
     "output_type": "stream",
     "text": [
      "2022-06-06 20:08:40.144 [raw sql] ('nft_info',)\n"
     ]
    },
    {
     "name": "stdout",
     "output_type": "stream",
     "text": [
      "2022-06-06 20:08:40,146 INFO sqlalchemy.engine.Engine PRAGMA main.foreign_key_list(\"nft_info\")\n"
     ]
    },
    {
     "name": "stderr",
     "output_type": "stream",
     "text": [
      "2022-06-06 20:08:40.146 PRAGMA main.foreign_key_list(\"nft_info\")\n"
     ]
    },
    {
     "name": "stdout",
     "output_type": "stream",
     "text": [
      "2022-06-06 20:08:40,150 INFO sqlalchemy.engine.Engine [raw sql] ()\n"
     ]
    },
    {
     "name": "stderr",
     "output_type": "stream",
     "text": [
      "2022-06-06 20:08:40.150 [raw sql] ()\n"
     ]
    },
    {
     "name": "stdout",
     "output_type": "stream",
     "text": [
      "2022-06-06 20:08:40,152 INFO sqlalchemy.engine.Engine PRAGMA temp.foreign_key_list(\"nft_info\")\n"
     ]
    },
    {
     "name": "stderr",
     "output_type": "stream",
     "text": [
      "2022-06-06 20:08:40.152 PRAGMA temp.foreign_key_list(\"nft_info\")\n"
     ]
    },
    {
     "name": "stdout",
     "output_type": "stream",
     "text": [
      "2022-06-06 20:08:40,153 INFO sqlalchemy.engine.Engine [raw sql] ()\n"
     ]
    },
    {
     "name": "stderr",
     "output_type": "stream",
     "text": [
      "2022-06-06 20:08:40.153 [raw sql] ()\n"
     ]
    },
    {
     "name": "stdout",
     "output_type": "stream",
     "text": [
      "2022-06-06 20:08:40,154 INFO sqlalchemy.engine.Engine SELECT sql FROM  (SELECT * FROM sqlite_master UNION ALL   SELECT * FROM sqlite_temp_master) WHERE name = ? AND type = 'table'\n"
     ]
    },
    {
     "name": "stderr",
     "output_type": "stream",
     "text": [
      "2022-06-06 20:08:40.154 SELECT sql FROM  (SELECT * FROM sqlite_master UNION ALL   SELECT * FROM sqlite_temp_master) WHERE name = ? AND type = 'table'\n"
     ]
    },
    {
     "name": "stdout",
     "output_type": "stream",
     "text": [
      "2022-06-06 20:08:40,155 INFO sqlalchemy.engine.Engine [raw sql] ('nft_info',)\n"
     ]
    },
    {
     "name": "stderr",
     "output_type": "stream",
     "text": [
      "2022-06-06 20:08:40.155 [raw sql] ('nft_info',)\n"
     ]
    },
    {
     "name": "stdout",
     "output_type": "stream",
     "text": [
      "2022-06-06 20:08:40,156 INFO sqlalchemy.engine.Engine PRAGMA main.index_list(\"nft_info\")\n"
     ]
    },
    {
     "name": "stderr",
     "output_type": "stream",
     "text": [
      "2022-06-06 20:08:40.156 PRAGMA main.index_list(\"nft_info\")\n"
     ]
    },
    {
     "name": "stdout",
     "output_type": "stream",
     "text": [
      "2022-06-06 20:08:40,157 INFO sqlalchemy.engine.Engine [raw sql] ()\n"
     ]
    },
    {
     "name": "stderr",
     "output_type": "stream",
     "text": [
      "2022-06-06 20:08:40.157 [raw sql] ()\n"
     ]
    },
    {
     "name": "stdout",
     "output_type": "stream",
     "text": [
      "2022-06-06 20:08:40,159 INFO sqlalchemy.engine.Engine PRAGMA temp.index_list(\"nft_info\")\n"
     ]
    },
    {
     "name": "stderr",
     "output_type": "stream",
     "text": [
      "2022-06-06 20:08:40.159 PRAGMA temp.index_list(\"nft_info\")\n"
     ]
    },
    {
     "name": "stdout",
     "output_type": "stream",
     "text": [
      "2022-06-06 20:08:40,160 INFO sqlalchemy.engine.Engine [raw sql] ()\n"
     ]
    },
    {
     "name": "stderr",
     "output_type": "stream",
     "text": [
      "2022-06-06 20:08:40.160 [raw sql] ()\n"
     ]
    },
    {
     "name": "stdout",
     "output_type": "stream",
     "text": [
      "2022-06-06 20:08:40,161 INFO sqlalchemy.engine.Engine PRAGMA main.index_list(\"nft_info\")\n"
     ]
    },
    {
     "name": "stderr",
     "output_type": "stream",
     "text": [
      "2022-06-06 20:08:40.161 PRAGMA main.index_list(\"nft_info\")\n"
     ]
    },
    {
     "name": "stdout",
     "output_type": "stream",
     "text": [
      "2022-06-06 20:08:40,163 INFO sqlalchemy.engine.Engine [raw sql] ()\n"
     ]
    },
    {
     "name": "stderr",
     "output_type": "stream",
     "text": [
      "2022-06-06 20:08:40.163 [raw sql] ()\n"
     ]
    },
    {
     "name": "stdout",
     "output_type": "stream",
     "text": [
      "2022-06-06 20:08:40,164 INFO sqlalchemy.engine.Engine PRAGMA temp.index_list(\"nft_info\")\n"
     ]
    },
    {
     "name": "stderr",
     "output_type": "stream",
     "text": [
      "2022-06-06 20:08:40.164 PRAGMA temp.index_list(\"nft_info\")\n"
     ]
    },
    {
     "name": "stdout",
     "output_type": "stream",
     "text": [
      "2022-06-06 20:08:40,165 INFO sqlalchemy.engine.Engine [raw sql] ()\n"
     ]
    },
    {
     "name": "stderr",
     "output_type": "stream",
     "text": [
      "2022-06-06 20:08:40.165 [raw sql] ()\n"
     ]
    },
    {
     "name": "stdout",
     "output_type": "stream",
     "text": [
      "2022-06-06 20:08:40,168 INFO sqlalchemy.engine.Engine SELECT sql FROM  (SELECT * FROM sqlite_master UNION ALL   SELECT * FROM sqlite_temp_master) WHERE name = ? AND type = 'table'\n"
     ]
    },
    {
     "name": "stderr",
     "output_type": "stream",
     "text": [
      "2022-06-06 20:08:40.168 SELECT sql FROM  (SELECT * FROM sqlite_master UNION ALL   SELECT * FROM sqlite_temp_master) WHERE name = ? AND type = 'table'\n"
     ]
    },
    {
     "name": "stdout",
     "output_type": "stream",
     "text": [
      "2022-06-06 20:08:40,173 INFO sqlalchemy.engine.Engine [raw sql] ('nft_info',)\n"
     ]
    },
    {
     "name": "stderr",
     "output_type": "stream",
     "text": [
      "2022-06-06 20:08:40.173 [raw sql] ('nft_info',)\n"
     ]
    },
    {
     "name": "stdout",
     "output_type": "stream",
     "text": [
      "2022-06-06 20:08:40,178 INFO sqlalchemy.engine.Engine SELECT nft_info.filename, nft_info.filetype, nft_info.filepath, nft_info.\"Owner_Name\", nft_info.\"Public_Key\", nft_info.\"Asset_name\", nft_info.bid_start_amount, nft_info.\"Bid_close_date\" \n",
      "FROM nft_info\n"
     ]
    },
    {
     "name": "stderr",
     "output_type": "stream",
     "text": [
      "2022-06-06 20:08:40.178 SELECT nft_info.filename, nft_info.filetype, nft_info.filepath, nft_info.\"Owner_Name\", nft_info.\"Public_Key\", nft_info.\"Asset_name\", nft_info.bid_start_amount, nft_info.\"Bid_close_date\" \n",
      "FROM nft_info\n"
     ]
    },
    {
     "name": "stdout",
     "output_type": "stream",
     "text": [
      "2022-06-06 20:08:40,185 INFO sqlalchemy.engine.Engine [generated in 0.00749s] ()\n"
     ]
    },
    {
     "name": "stderr",
     "output_type": "stream",
     "text": [
      "2022-06-06 20:08:40.185 [generated in 0.00749s] ()\n"
     ]
    },
    {
     "data": {
      "text/html": [
       "<div>\n",
       "<style scoped>\n",
       "    .dataframe tbody tr th:only-of-type {\n",
       "        vertical-align: middle;\n",
       "    }\n",
       "\n",
       "    .dataframe tbody tr th {\n",
       "        vertical-align: top;\n",
       "    }\n",
       "\n",
       "    .dataframe thead th {\n",
       "        text-align: right;\n",
       "    }\n",
       "</style>\n",
       "<table border=\"1\" class=\"dataframe\">\n",
       "  <thead>\n",
       "    <tr style=\"text-align: right;\">\n",
       "      <th></th>\n",
       "      <th>filename</th>\n",
       "      <th>filetype</th>\n",
       "      <th>filepath</th>\n",
       "      <th>Owner_Name</th>\n",
       "      <th>Public_Key</th>\n",
       "      <th>Asset_name</th>\n",
       "      <th>bid_start_amount</th>\n",
       "      <th>Bid_close_date</th>\n",
       "    </tr>\n",
       "  </thead>\n",
       "  <tbody>\n",
       "    <tr>\n",
       "      <th>0</th>\n",
       "      <td>Laker</td>\n",
       "      <td>Images/image1.png</td>\n",
       "      <td>253020</td>\n",
       "      <td>Images/image1.png</td>\n",
       "      <td>0xc852Ab4073FF57c7Fa824D158A3Cdd5CC6707399</td>\n",
       "      <td>Laker_asset</td>\n",
       "      <td>4000.0</td>\n",
       "      <td>6/4/2002</td>\n",
       "    </tr>\n",
       "    <tr>\n",
       "      <th>1</th>\n",
       "      <td>1990</td>\n",
       "      <td>Images/image2.png</td>\n",
       "      <td>253020</td>\n",
       "      <td>Images/image2.png</td>\n",
       "      <td>0x408e647764abbAB762fFc730afd3888552660C35</td>\n",
       "      <td>None</td>\n",
       "      <td>NaN</td>\n",
       "      <td>None</td>\n",
       "    </tr>\n",
       "    <tr>\n",
       "      <th>2</th>\n",
       "      <td>AllStar</td>\n",
       "      <td>Images/image3.png</td>\n",
       "      <td>253020</td>\n",
       "      <td>Images/image3.png</td>\n",
       "      <td>0x949cD3e57F62499ca874F3C59D456F18b9CeBd8F</td>\n",
       "      <td>None</td>\n",
       "      <td>NaN</td>\n",
       "      <td>None</td>\n",
       "    </tr>\n",
       "    <tr>\n",
       "      <th>3</th>\n",
       "      <td>Atl0</td>\n",
       "      <td>Images/atl0.jpg</td>\n",
       "      <td>253020</td>\n",
       "      <td>Images/atl0.jpg</td>\n",
       "      <td>0x23f86eA3f98701A05E8eB6596AAc1F01E3600771</td>\n",
       "      <td>None</td>\n",
       "      <td>NaN</td>\n",
       "      <td>None</td>\n",
       "    </tr>\n",
       "    <tr>\n",
       "      <th>4</th>\n",
       "      <td>Atl12</td>\n",
       "      <td>Images/atl12.jpg</td>\n",
       "      <td>253020</td>\n",
       "      <td>Images/atl12.jpg</td>\n",
       "      <td>0x15784317248d616AFf662f512963e35950743Df4</td>\n",
       "      <td>None</td>\n",
       "      <td>NaN</td>\n",
       "      <td>None</td>\n",
       "    </tr>\n",
       "    <tr>\n",
       "      <th>5</th>\n",
       "      <td>Atl17</td>\n",
       "      <td>Images/atl17.jpg</td>\n",
       "      <td>253020</td>\n",
       "      <td>Images/atl17.jpg</td>\n",
       "      <td>0x10e1072f12Abd7Db152aF026D56fA6692B0B24EC</td>\n",
       "      <td>None</td>\n",
       "      <td>NaN</td>\n",
       "      <td>None</td>\n",
       "    </tr>\n",
       "    <tr>\n",
       "      <th>6</th>\n",
       "      <td>Atl7</td>\n",
       "      <td>Images/atl7.jpg</td>\n",
       "      <td>253020</td>\n",
       "      <td>Images/atl7.jpg</td>\n",
       "      <td>0x5a50Fe1A38D5b0C10Cea72C4BB857193e5595DDa</td>\n",
       "      <td>None</td>\n",
       "      <td>NaN</td>\n",
       "      <td>None</td>\n",
       "    </tr>\n",
       "    <tr>\n",
       "      <th>7</th>\n",
       "      <td>Bulls21</td>\n",
       "      <td>Images/bulls21.jpg</td>\n",
       "      <td>253020</td>\n",
       "      <td>Images/bulls21.jpg</td>\n",
       "      <td>0x8FfdB71Ec8F0925ED9Bc029Eb4072dd369104074</td>\n",
       "      <td>None</td>\n",
       "      <td>NaN</td>\n",
       "      <td>None</td>\n",
       "    </tr>\n",
       "    <tr>\n",
       "      <th>8</th>\n",
       "      <td>Chi10</td>\n",
       "      <td>Images/bulls5.jpg</td>\n",
       "      <td>253020</td>\n",
       "      <td>Images/bulls5.jpg</td>\n",
       "      <td>0x8BDaE51c43C32402618D7eFC841c2486fbeEBf59</td>\n",
       "      <td>Bulls10</td>\n",
       "      <td>7000.0</td>\n",
       "      <td>4/3/2020</td>\n",
       "    </tr>\n",
       "    <tr>\n",
       "      <th>9</th>\n",
       "      <td>Bulls7</td>\n",
       "      <td>Images/chi7.jpg</td>\n",
       "      <td>253020</td>\n",
       "      <td>Images/chi7.jpg</td>\n",
       "      <td>0x031E8c27e6Bf3ea5d32552A3D29c1C4FD6d46A0f</td>\n",
       "      <td>Chi7</td>\n",
       "      <td>5000.0</td>\n",
       "      <td>5/2/2022</td>\n",
       "    </tr>\n",
       "    <tr>\n",
       "      <th>10</th>\n",
       "      <td>Laker</td>\n",
       "      <td>Images/image1.png</td>\n",
       "      <td>253020</td>\n",
       "      <td>Images/image1.png</td>\n",
       "      <td>0xc852Ab4073FF57c7Fa824D158A3Cdd5CC6707399</td>\n",
       "      <td>Laker_asset</td>\n",
       "      <td>4000.0</td>\n",
       "      <td>6/4/2002</td>\n",
       "    </tr>\n",
       "    <tr>\n",
       "      <th>11</th>\n",
       "      <td>1990</td>\n",
       "      <td>Images/image2.png</td>\n",
       "      <td>253020</td>\n",
       "      <td>Images/image2.png</td>\n",
       "      <td>0x408e647764abbAB762fFc730afd3888552660C35</td>\n",
       "      <td>None</td>\n",
       "      <td>NaN</td>\n",
       "      <td>None</td>\n",
       "    </tr>\n",
       "    <tr>\n",
       "      <th>12</th>\n",
       "      <td>AllStar</td>\n",
       "      <td>Images/image3.png</td>\n",
       "      <td>253020</td>\n",
       "      <td>Images/image3.png</td>\n",
       "      <td>0x949cD3e57F62499ca874F3C59D456F18b9CeBd8F</td>\n",
       "      <td>None</td>\n",
       "      <td>NaN</td>\n",
       "      <td>None</td>\n",
       "    </tr>\n",
       "    <tr>\n",
       "      <th>13</th>\n",
       "      <td>Atl0</td>\n",
       "      <td>Images/atl0.jpg</td>\n",
       "      <td>253020</td>\n",
       "      <td>Images/atl0.jpg</td>\n",
       "      <td>0x23f86eA3f98701A05E8eB6596AAc1F01E3600771</td>\n",
       "      <td>None</td>\n",
       "      <td>NaN</td>\n",
       "      <td>None</td>\n",
       "    </tr>\n",
       "    <tr>\n",
       "      <th>14</th>\n",
       "      <td>Atl12</td>\n",
       "      <td>Images/atl12.jpg</td>\n",
       "      <td>253020</td>\n",
       "      <td>Images/atl12.jpg</td>\n",
       "      <td>0x15784317248d616AFf662f512963e35950743Df4</td>\n",
       "      <td>None</td>\n",
       "      <td>NaN</td>\n",
       "      <td>None</td>\n",
       "    </tr>\n",
       "    <tr>\n",
       "      <th>15</th>\n",
       "      <td>Atl17</td>\n",
       "      <td>Images/atl17.jpg</td>\n",
       "      <td>253020</td>\n",
       "      <td>Images/atl17.jpg</td>\n",
       "      <td>0x10e1072f12Abd7Db152aF026D56fA6692B0B24EC</td>\n",
       "      <td>None</td>\n",
       "      <td>NaN</td>\n",
       "      <td>None</td>\n",
       "    </tr>\n",
       "    <tr>\n",
       "      <th>16</th>\n",
       "      <td>Atl7</td>\n",
       "      <td>Images/atl7.jpg</td>\n",
       "      <td>253020</td>\n",
       "      <td>Images/atl7.jpg</td>\n",
       "      <td>0x5a50Fe1A38D5b0C10Cea72C4BB857193e5595DDa</td>\n",
       "      <td>None</td>\n",
       "      <td>NaN</td>\n",
       "      <td>None</td>\n",
       "    </tr>\n",
       "    <tr>\n",
       "      <th>17</th>\n",
       "      <td>Bulls21</td>\n",
       "      <td>Images/bulls21.jpg</td>\n",
       "      <td>253020</td>\n",
       "      <td>Images/bulls21.jpg</td>\n",
       "      <td>0x8FfdB71Ec8F0925ED9Bc029Eb4072dd369104074</td>\n",
       "      <td>None</td>\n",
       "      <td>NaN</td>\n",
       "      <td>None</td>\n",
       "    </tr>\n",
       "    <tr>\n",
       "      <th>18</th>\n",
       "      <td>Chi10</td>\n",
       "      <td>Images/bulls5.jpg</td>\n",
       "      <td>253020</td>\n",
       "      <td>Images/bulls5.jpg</td>\n",
       "      <td>0x8BDaE51c43C32402618D7eFC841c2486fbeEBf59</td>\n",
       "      <td>Bulls10</td>\n",
       "      <td>7000.0</td>\n",
       "      <td>4/3/2020</td>\n",
       "    </tr>\n",
       "    <tr>\n",
       "      <th>19</th>\n",
       "      <td>Bulls7</td>\n",
       "      <td>Images/chi7.jpg</td>\n",
       "      <td>253020</td>\n",
       "      <td>Images/chi7.jpg</td>\n",
       "      <td>0x031E8c27e6Bf3ea5d32552A3D29c1C4FD6d46A0f</td>\n",
       "      <td>Chi7</td>\n",
       "      <td>5000.0</td>\n",
       "      <td>5/2/2022</td>\n",
       "    </tr>\n",
       "  </tbody>\n",
       "</table>\n",
       "</div>"
      ],
      "text/plain": [
       "   filename            filetype filepath          Owner_Name  \\\n",
       "0     Laker   Images/image1.png   253020   Images/image1.png   \n",
       "1      1990   Images/image2.png   253020   Images/image2.png   \n",
       "2   AllStar   Images/image3.png   253020   Images/image3.png   \n",
       "3      Atl0     Images/atl0.jpg   253020     Images/atl0.jpg   \n",
       "4     Atl12    Images/atl12.jpg   253020    Images/atl12.jpg   \n",
       "5     Atl17    Images/atl17.jpg   253020    Images/atl17.jpg   \n",
       "6      Atl7     Images/atl7.jpg   253020     Images/atl7.jpg   \n",
       "7   Bulls21  Images/bulls21.jpg   253020  Images/bulls21.jpg   \n",
       "8     Chi10   Images/bulls5.jpg   253020   Images/bulls5.jpg   \n",
       "9    Bulls7     Images/chi7.jpg   253020     Images/chi7.jpg   \n",
       "10    Laker   Images/image1.png   253020   Images/image1.png   \n",
       "11     1990   Images/image2.png   253020   Images/image2.png   \n",
       "12  AllStar   Images/image3.png   253020   Images/image3.png   \n",
       "13     Atl0     Images/atl0.jpg   253020     Images/atl0.jpg   \n",
       "14    Atl12    Images/atl12.jpg   253020    Images/atl12.jpg   \n",
       "15    Atl17    Images/atl17.jpg   253020    Images/atl17.jpg   \n",
       "16     Atl7     Images/atl7.jpg   253020     Images/atl7.jpg   \n",
       "17  Bulls21  Images/bulls21.jpg   253020  Images/bulls21.jpg   \n",
       "18    Chi10   Images/bulls5.jpg   253020   Images/bulls5.jpg   \n",
       "19   Bulls7     Images/chi7.jpg   253020     Images/chi7.jpg   \n",
       "\n",
       "                                    Public_Key   Asset_name  bid_start_amount  \\\n",
       "0   0xc852Ab4073FF57c7Fa824D158A3Cdd5CC6707399  Laker_asset            4000.0   \n",
       "1   0x408e647764abbAB762fFc730afd3888552660C35         None               NaN   \n",
       "2   0x949cD3e57F62499ca874F3C59D456F18b9CeBd8F         None               NaN   \n",
       "3   0x23f86eA3f98701A05E8eB6596AAc1F01E3600771         None               NaN   \n",
       "4   0x15784317248d616AFf662f512963e35950743Df4         None               NaN   \n",
       "5   0x10e1072f12Abd7Db152aF026D56fA6692B0B24EC         None               NaN   \n",
       "6   0x5a50Fe1A38D5b0C10Cea72C4BB857193e5595DDa         None               NaN   \n",
       "7   0x8FfdB71Ec8F0925ED9Bc029Eb4072dd369104074         None               NaN   \n",
       "8   0x8BDaE51c43C32402618D7eFC841c2486fbeEBf59      Bulls10            7000.0   \n",
       "9   0x031E8c27e6Bf3ea5d32552A3D29c1C4FD6d46A0f         Chi7            5000.0   \n",
       "10  0xc852Ab4073FF57c7Fa824D158A3Cdd5CC6707399  Laker_asset            4000.0   \n",
       "11  0x408e647764abbAB762fFc730afd3888552660C35         None               NaN   \n",
       "12  0x949cD3e57F62499ca874F3C59D456F18b9CeBd8F         None               NaN   \n",
       "13  0x23f86eA3f98701A05E8eB6596AAc1F01E3600771         None               NaN   \n",
       "14  0x15784317248d616AFf662f512963e35950743Df4         None               NaN   \n",
       "15  0x10e1072f12Abd7Db152aF026D56fA6692B0B24EC         None               NaN   \n",
       "16  0x5a50Fe1A38D5b0C10Cea72C4BB857193e5595DDa         None               NaN   \n",
       "17  0x8FfdB71Ec8F0925ED9Bc029Eb4072dd369104074         None               NaN   \n",
       "18  0x8BDaE51c43C32402618D7eFC841c2486fbeEBf59      Bulls10            7000.0   \n",
       "19  0x031E8c27e6Bf3ea5d32552A3D29c1C4FD6d46A0f         Chi7            5000.0   \n",
       "\n",
       "   Bid_close_date  \n",
       "0        6/4/2002  \n",
       "1            None  \n",
       "2            None  \n",
       "3            None  \n",
       "4            None  \n",
       "5            None  \n",
       "6            None  \n",
       "7            None  \n",
       "8        4/3/2020  \n",
       "9        5/2/2022  \n",
       "10       6/4/2002  \n",
       "11           None  \n",
       "12           None  \n",
       "13           None  \n",
       "14           None  \n",
       "15           None  \n",
       "16           None  \n",
       "17           None  \n",
       "18       4/3/2020  \n",
       "19       5/2/2022  "
      ]
     },
     "metadata": {},
     "output_type": "display_data"
    }
   ],
   "source": [
    "insert_data(nft_df)"
   ]
  },
  {
   "cell_type": "code",
   "execution_count": null,
   "id": "fb11e325-c597-4a65-82ad-b75cf7030e82",
   "metadata": {},
   "outputs": [],
   "source": []
  }
 ],
 "metadata": {
  "kernelspec": {
   "display_name": "Python 3 (ipykernel)",
   "language": "python",
   "name": "python3"
  },
  "language_info": {
   "codemirror_mode": {
    "name": "ipython",
    "version": 3
   },
   "file_extension": ".py",
   "mimetype": "text/x-python",
   "name": "python",
   "nbconvert_exporter": "python",
   "pygments_lexer": "ipython3",
   "version": "3.9.7"
  }
 },
 "nbformat": 4,
 "nbformat_minor": 5
}
